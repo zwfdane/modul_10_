{
 "cells": [
  {
   "cell_type": "markdown",
   "id": "f957a56e",
   "metadata": {},
   "source": [
    "# Po co nam statystyka?"
   ]
  },
  {
   "cell_type": "code",
   "execution_count": 1,
   "id": "7475b312",
   "metadata": {},
   "outputs": [
    {
     "data": {
      "text/html": [
       "<div>\n",
       "<style scoped>\n",
       "    .dataframe tbody tr th:only-of-type {\n",
       "        vertical-align: middle;\n",
       "    }\n",
       "\n",
       "    .dataframe tbody tr th {\n",
       "        vertical-align: top;\n",
       "    }\n",
       "\n",
       "    .dataframe thead th {\n",
       "        text-align: right;\n",
       "    }\n",
       "</style>\n",
       "<table border=\"1\" class=\"dataframe\">\n",
       "  <thead>\n",
       "    <tr style=\"text-align: right;\">\n",
       "      <th></th>\n",
       "      <th>PassengerId</th>\n",
       "      <th>Survived</th>\n",
       "      <th>Pclass</th>\n",
       "      <th>Name</th>\n",
       "      <th>Sex</th>\n",
       "      <th>Age</th>\n",
       "      <th>SibSp</th>\n",
       "      <th>Parch</th>\n",
       "      <th>Ticket</th>\n",
       "      <th>Fare</th>\n",
       "      <th>Cabin</th>\n",
       "      <th>Embarked</th>\n",
       "    </tr>\n",
       "  </thead>\n",
       "  <tbody>\n",
       "    <tr>\n",
       "      <th>0</th>\n",
       "      <td>1</td>\n",
       "      <td>0</td>\n",
       "      <td>3</td>\n",
       "      <td>Braund, Mr. Owen Harris</td>\n",
       "      <td>male</td>\n",
       "      <td>22.0</td>\n",
       "      <td>1</td>\n",
       "      <td>0</td>\n",
       "      <td>A/5 21171</td>\n",
       "      <td>7.2500</td>\n",
       "      <td>NaN</td>\n",
       "      <td>S</td>\n",
       "    </tr>\n",
       "    <tr>\n",
       "      <th>1</th>\n",
       "      <td>2</td>\n",
       "      <td>1</td>\n",
       "      <td>1</td>\n",
       "      <td>Cumings, Mrs. John Bradley (Florence Briggs Th...</td>\n",
       "      <td>female</td>\n",
       "      <td>38.0</td>\n",
       "      <td>1</td>\n",
       "      <td>0</td>\n",
       "      <td>PC 17599</td>\n",
       "      <td>71.2833</td>\n",
       "      <td>C85</td>\n",
       "      <td>C</td>\n",
       "    </tr>\n",
       "    <tr>\n",
       "      <th>2</th>\n",
       "      <td>3</td>\n",
       "      <td>1</td>\n",
       "      <td>3</td>\n",
       "      <td>Heikkinen, Miss. Laina</td>\n",
       "      <td>female</td>\n",
       "      <td>26.0</td>\n",
       "      <td>0</td>\n",
       "      <td>0</td>\n",
       "      <td>STON/O2. 3101282</td>\n",
       "      <td>7.9250</td>\n",
       "      <td>NaN</td>\n",
       "      <td>S</td>\n",
       "    </tr>\n",
       "    <tr>\n",
       "      <th>3</th>\n",
       "      <td>4</td>\n",
       "      <td>1</td>\n",
       "      <td>1</td>\n",
       "      <td>Futrelle, Mrs. Jacques Heath (Lily May Peel)</td>\n",
       "      <td>female</td>\n",
       "      <td>35.0</td>\n",
       "      <td>1</td>\n",
       "      <td>0</td>\n",
       "      <td>113803</td>\n",
       "      <td>53.1000</td>\n",
       "      <td>C123</td>\n",
       "      <td>S</td>\n",
       "    </tr>\n",
       "    <tr>\n",
       "      <th>4</th>\n",
       "      <td>5</td>\n",
       "      <td>0</td>\n",
       "      <td>3</td>\n",
       "      <td>Allen, Mr. William Henry</td>\n",
       "      <td>male</td>\n",
       "      <td>35.0</td>\n",
       "      <td>0</td>\n",
       "      <td>0</td>\n",
       "      <td>373450</td>\n",
       "      <td>8.0500</td>\n",
       "      <td>NaN</td>\n",
       "      <td>S</td>\n",
       "    </tr>\n",
       "    <tr>\n",
       "      <th>...</th>\n",
       "      <td>...</td>\n",
       "      <td>...</td>\n",
       "      <td>...</td>\n",
       "      <td>...</td>\n",
       "      <td>...</td>\n",
       "      <td>...</td>\n",
       "      <td>...</td>\n",
       "      <td>...</td>\n",
       "      <td>...</td>\n",
       "      <td>...</td>\n",
       "      <td>...</td>\n",
       "      <td>...</td>\n",
       "    </tr>\n",
       "    <tr>\n",
       "      <th>886</th>\n",
       "      <td>887</td>\n",
       "      <td>0</td>\n",
       "      <td>2</td>\n",
       "      <td>Montvila, Rev. Juozas</td>\n",
       "      <td>male</td>\n",
       "      <td>27.0</td>\n",
       "      <td>0</td>\n",
       "      <td>0</td>\n",
       "      <td>211536</td>\n",
       "      <td>13.0000</td>\n",
       "      <td>NaN</td>\n",
       "      <td>S</td>\n",
       "    </tr>\n",
       "    <tr>\n",
       "      <th>887</th>\n",
       "      <td>888</td>\n",
       "      <td>1</td>\n",
       "      <td>1</td>\n",
       "      <td>Graham, Miss. Margaret Edith</td>\n",
       "      <td>female</td>\n",
       "      <td>19.0</td>\n",
       "      <td>0</td>\n",
       "      <td>0</td>\n",
       "      <td>112053</td>\n",
       "      <td>30.0000</td>\n",
       "      <td>B42</td>\n",
       "      <td>S</td>\n",
       "    </tr>\n",
       "    <tr>\n",
       "      <th>888</th>\n",
       "      <td>889</td>\n",
       "      <td>0</td>\n",
       "      <td>3</td>\n",
       "      <td>Johnston, Miss. Catherine Helen \"Carrie\"</td>\n",
       "      <td>female</td>\n",
       "      <td>NaN</td>\n",
       "      <td>1</td>\n",
       "      <td>2</td>\n",
       "      <td>W./C. 6607</td>\n",
       "      <td>23.4500</td>\n",
       "      <td>NaN</td>\n",
       "      <td>S</td>\n",
       "    </tr>\n",
       "    <tr>\n",
       "      <th>889</th>\n",
       "      <td>890</td>\n",
       "      <td>1</td>\n",
       "      <td>1</td>\n",
       "      <td>Behr, Mr. Karl Howell</td>\n",
       "      <td>male</td>\n",
       "      <td>26.0</td>\n",
       "      <td>0</td>\n",
       "      <td>0</td>\n",
       "      <td>111369</td>\n",
       "      <td>30.0000</td>\n",
       "      <td>C148</td>\n",
       "      <td>C</td>\n",
       "    </tr>\n",
       "    <tr>\n",
       "      <th>890</th>\n",
       "      <td>891</td>\n",
       "      <td>0</td>\n",
       "      <td>3</td>\n",
       "      <td>Dooley, Mr. Patrick</td>\n",
       "      <td>male</td>\n",
       "      <td>32.0</td>\n",
       "      <td>0</td>\n",
       "      <td>0</td>\n",
       "      <td>370376</td>\n",
       "      <td>7.7500</td>\n",
       "      <td>NaN</td>\n",
       "      <td>Q</td>\n",
       "    </tr>\n",
       "  </tbody>\n",
       "</table>\n",
       "<p>891 rows × 12 columns</p>\n",
       "</div>"
      ],
      "text/plain": [
       "     PassengerId  Survived  Pclass  \\\n",
       "0              1         0       3   \n",
       "1              2         1       1   \n",
       "2              3         1       3   \n",
       "3              4         1       1   \n",
       "4              5         0       3   \n",
       "..           ...       ...     ...   \n",
       "886          887         0       2   \n",
       "887          888         1       1   \n",
       "888          889         0       3   \n",
       "889          890         1       1   \n",
       "890          891         0       3   \n",
       "\n",
       "                                                  Name     Sex   Age  SibSp  \\\n",
       "0                              Braund, Mr. Owen Harris    male  22.0      1   \n",
       "1    Cumings, Mrs. John Bradley (Florence Briggs Th...  female  38.0      1   \n",
       "2                               Heikkinen, Miss. Laina  female  26.0      0   \n",
       "3         Futrelle, Mrs. Jacques Heath (Lily May Peel)  female  35.0      1   \n",
       "4                             Allen, Mr. William Henry    male  35.0      0   \n",
       "..                                                 ...     ...   ...    ...   \n",
       "886                              Montvila, Rev. Juozas    male  27.0      0   \n",
       "887                       Graham, Miss. Margaret Edith  female  19.0      0   \n",
       "888           Johnston, Miss. Catherine Helen \"Carrie\"  female   NaN      1   \n",
       "889                              Behr, Mr. Karl Howell    male  26.0      0   \n",
       "890                                Dooley, Mr. Patrick    male  32.0      0   \n",
       "\n",
       "     Parch            Ticket     Fare Cabin Embarked  \n",
       "0        0         A/5 21171   7.2500   NaN        S  \n",
       "1        0          PC 17599  71.2833   C85        C  \n",
       "2        0  STON/O2. 3101282   7.9250   NaN        S  \n",
       "3        0            113803  53.1000  C123        S  \n",
       "4        0            373450   8.0500   NaN        S  \n",
       "..     ...               ...      ...   ...      ...  \n",
       "886      0            211536  13.0000   NaN        S  \n",
       "887      0            112053  30.0000   B42        S  \n",
       "888      2        W./C. 6607  23.4500   NaN        S  \n",
       "889      0            111369  30.0000  C148        C  \n",
       "890      0            370376   7.7500   NaN        Q  \n",
       "\n",
       "[891 rows x 12 columns]"
      ]
     },
     "execution_count": 1,
     "metadata": {},
     "output_type": "execute_result"
    }
   ],
   "source": [
    "# manipulacja danymi\n",
    "import numpy as np\n",
    "import pandas as pd\n",
    "\n",
    "# wizualizacja danych\n",
    "import matplotlib.pyplot as plt\n",
    "import seaborn as sns\n",
    "\n",
    "# statystyczna analiza danych\n",
    "from scipy import stats\n",
    "\n",
    "# przygotowanie danych\n",
    "from sklearn.preprocessing import StandardScaler, MinMaxScaler\n",
    "dataset = pd.read_csv('titanic.csv')\n",
    "dataset"
   ]
  },
  {
   "cell_type": "raw",
   "id": "0545d13f",
   "metadata": {},
   "source": [
    "Zanim zajmiemy się tym zbiorem danych, odpowiedzmy sobie dlaczego Data Science potrzebuje statystki. Statystyka i prawdopodobieństwo wpływają na nasze życie na co dzień. Statystyka jest wykorzystywana do przewidywania pogody, uzupełniania zapasów na półkach sklepowych, szacowania stanu gospodarki i decyzji, które akcje spółek należy kupić. Statystyka, wykorzystywana w wielu dziedzinach, pozwala uzyskać cenne spostrzeżenia i rozwiązywać złożone problemy w biznesie, nauce i społeczeństwie. Bez twardych podstaw naukowych podejmowanie decyzji opiera się na emocjach i przeczuciach. Statystyka i dane unieważniają intuicję, informują o decyzjach oraz minimalizują ryzyko i niepewność.\n",
    "\n",
    "My, jako ludzie, jesteśmy biasowani (obciążeni). Na podstawie jednego wydarzenia możemy sobie zbudować wzorce świata, które nie muszą być zgodne z rzeczywistością. Na przykład możesz mieć dwoje znajomych z dzieciństwa, którzy nie zdobyli wykształcenia tylko zbudowali własne przedsiębiorstwa i teraz są milionerami. Takie doświadczenie może skłaniać Cię do błędnych wniosków, które przekażesz swoim dzieciom. Statystyka mówi co innego, osoby z wyższym wykształceniem średnio zarabiają więcej, jednak nie jest to reguła, należy znać różnice i nie wyciągnąć wniosków na podstawie jednej obserwacji. Stosując statystykę będziesz wyciągać poprawne wnioski.\n",
    "\n",
    "Popularnym problemem, dp którego zastosowano statystykę jest problem niemieckich czołgów. Aliancki kraje chciały oszacować liczbę czołgów. Każdy z nich miał własny numer seryjny, od 1 do N. Problem polegał na tym, aby na podstawie numerów zniszczonych czołgów oszacować miesięczne tempo produkcji czołgów. Do tego wykorzystano właśnie statystykę, aby na podstawie ograniczonej liczby danych estymować wartość produkcji.\n",
    "\n",
    "W statystycznej analizie danych wykorzystujemy zazwyczaj pewną próbę, na podstawie której zamierzamy wyciągnąć wnioski dla całej populacji, zatem istotne jest, aby nasza próba była reprezentatywna. Co to oznacza?\n",
    "\n",
    "Wróćmy do naszej ramki Titanica, są tam dane jedynie 891 pasażerów. Zdarzyło Ci się zapewne oglądać film i zauważyć, że na statku było zdecydowanie więcej osób niż my mamy obserwacji. Z informacji, które można znaleźć o katastrofie wynika, że było aż do 2228 pasażerów. Aby nasza próba była reprezentatywna, potrzebujemy, aby rozkład zmiennych nie różnił się zbytnio od rozkładu całej populacji. Dobrze, ale dlaczego nie uzyskać danych wszystkich pasażerów? Może dla tego problemu jest to możliwe, jednak nie zawsze tak jest. Załóżmy, że chcemy określić średni wzrost Polaka. Ciężko będzie poprosić każdego z osobna o zmierzenie się, dlatego taki średni wzrost możemy bardzo dobrze określić na losowej próbie 1000 osób.\n",
    "image\n",
    "\n",
    "\n",
    "    Populacja – cały zbiór elementów. Przykładem mogą być wszyscy mężczyźni w Polsce. W tym przypadku zebranie danych nie jest łatwe, ponieważ populacja jest ogromna.\n",
    "    Próba – wydzielona grupa z populacji, która ma być wykorzystana jako reprezentacja całej populacji. Zdobycie danych wszystkich mężczyzn do badania zapewne jest niemożliwe, dlatego należy zdobyć dane reprezentatywnych mężczyzn.\n",
    "    Stopnie swobody – w statystyce liczba stopni swobody to liczba obserwacji n w zbiorze. Stopnie swobody to koncepcja, zgodnie z którą posiadana ilość niezależnych informacji, jakimi dysponujemy, ogranicza liczbę parametrów, które możemy oszacować. Łatwo zauważyć, że aby uzyskać bardziej precyzyjne oszacowania i mocniejsze testy hipotez, do oszacowań parametrów należy wprowadzić wiele informacji. Zatem chcemy mieć wiele stopni swobody!\n"
   ]
  },
  {
   "cell_type": "markdown",
   "id": "55828804",
   "metadata": {},
   "source": [
    "# Statystyka opisowa"
   ]
  },
  {
   "cell_type": "raw",
   "id": "21223208",
   "metadata": {},
   "source": [
    "Statystyki opisowe to miary, które agregują zbiór danych do metryki, podsumowującej zbiór danych, który może być reprezentacją całej populacji lub próby. Statystki opisowe podzielić można na:\n",
    "\n",
    "    miary położenia, które dzieli się na:\n",
    "        miary tendencji centralnej – jakie wartości są powszechne dla zmiennej, są to średnia, mediana czy moda,\n",
    "        miary pozycji – kwartyle,\n",
    "    miary rozproszenia – wariancja, odchylenie standardowe, minimum i maksimum zmiennej, czy kurtoza i skośność, które określają charakterystykę kształtu.\n",
    "\n",
    "Zanim przejdziemy do statystyk, czas zrozumieć czym jest histogram i jak on pomoże nam w późniejszej analizie. Weźmy dane z kolumny Age bez wartości brakujących (bo takie tam są) i przypiszmy je do zmiennej age_values."
   ]
  },
  {
   "cell_type": "code",
   "execution_count": 2,
   "id": "39621912",
   "metadata": {},
   "outputs": [
    {
     "name": "stdout",
     "output_type": "stream",
     "text": [
      "(714,)\n"
     ]
    }
   ],
   "source": [
    "age_values = dataset.loc[dataset['Age'].notnull(), 'Age'].values\n",
    "print(age_values.shape)"
   ]
  },
  {
   "cell_type": "raw",
   "id": "4864b053",
   "metadata": {},
   "source": [
    "Histogram to wizualna reprezentacja uporządkowanych obserwacji. Jest on podobny do wykresu słupkowego, jednak w tym przypadku grupuj posortowane wartości z zakresu osi x. Oś y przedstawia liczbę lub procent wystąpień danych z każdego ‘słupka’. Jest to popularna forma wizualizacji rozkładu danych. Na przykładzie naszych danych możemy określić ilu pasażerów było w wieku 0-10 lat, 11-20 lat, 21-30 lat itd.\n",
    "\n",
    "Zarówno histogramy, jak i wykresy słupkowe umożliwiają wizualne przedstawienie danych za pomocą kolumn, a ludzie często używają tych terminów zamiennie. Bardziej technicznie rzecz biorąc, histogram przedstawia rozkład częstości występowania zmiennych w zbiorze danych. Z drugiej strony, wykres słupkowy zwykle przedstawia graficzne porównanie zmiennych kategorycznych. Wykorzystując histogram funkcją hist z biblioteki matplotlib domyślnie ustawiono 10 ‘pudełek’. Stwórzmy zatem histogram dla zmiennej wiek, ustawmy jednak 20 ‘pudełek’."
   ]
  },
  {
   "cell_type": "code",
   "execution_count": 3,
   "id": "00b55ce2",
   "metadata": {},
   "outputs": [
    {
     "data": {
      "image/png": "[encoded data removed]",
      "text/plain": [
       "<Figure size 432x288 with 1 Axes>"
      ]
     },
     "metadata": {
      "needs_background": "light"
     },
     "output_type": "display_data"
    }
   ],
   "source": [
    "plt.hist(age_values, bins=20)\n",
    "plt.show()"
   ]
  },
  {
   "cell_type": "raw",
   "id": "80b1167f",
   "metadata": {},
   "source": [
    "Jaki stąd wniosek? Więcej było noworodków/małych dzieci niż nastolatków oraz najczęstszy wiek pasażera to ten z zakresu 20-35."
   ]
  },
  {
   "cell_type": "markdown",
   "id": "3446952f",
   "metadata": {},
   "source": [
    "## Średnia "
   ]
  },
  {
   "cell_type": "raw",
   "id": "8ffc8cce",
   "metadata": {},
   "source": [
    "Jest to najbardziej popularna i dobrze znana miara tendencji centralnej. Nie trzeba pracować w Data Science, aby z niej korzystać, ponieważ już w szkole podstawowej poznaliśmy tę metrykę. Średnia jest równa sumie wszystkich wartości w zbiorze danych podzielonej przez liczbę wartości w zbiorze danych.\n",
    "image\n",
    "\n",
    "Policzmy średnią dla naszego zbioru, którą następnie zaokrąglimy:"
   ]
  },
  {
   "cell_type": "code",
   "execution_count": 4,
   "id": "4b26f5fd",
   "metadata": {},
   "outputs": [
    {
     "name": "stdout",
     "output_type": "stream",
     "text": [
      "30.0\n"
     ]
    }
   ],
   "source": [
    "mean_age = np.round(np.mean(age_values))\n",
    "print(mean_age)"
   ]
  },
  {
   "cell_type": "raw",
   "id": "dd1bd10e",
   "metadata": {},
   "source": [
    "Średni wiek pasażera to 30 lat. Nanieśmy tę wartość na histogram."
   ]
  },
  {
   "cell_type": "code",
   "execution_count": 5,
   "id": "aaa2695f",
   "metadata": {},
   "outputs": [
    {
     "data": {
      "image/png": "[encoded data removed]",
      "text/plain": [
       "<Figure size 432x288 with 1 Axes>"
      ]
     },
     "metadata": {
      "needs_background": "light"
     },
     "output_type": "display_data"
    }
   ],
   "source": [
    "plt.hist(age_values, bins=20)\n",
    "plt.axvline(x = mean_age, color='red', label = 'Średnia')\n",
    "plt.legend(loc='upper right')\n",
    "plt.show()"
   ]
  },
  {
   "cell_type": "markdown",
   "id": "9880370f",
   "metadata": {},
   "source": [
    "## Mediana "
   ]
  },
  {
   "cell_type": "raw",
   "id": "0d3de513",
   "metadata": {},
   "source": [
    "Jest to środkowa liczba na posortowanej liście wartości. Medianę stosuje się w celu odróżnienia od średniej, gdy dla danej cechy występują wartości odstające. W przypadku nieparzystej liczby wartości medianą jest wartość, która znajduje się pośrodku, z taką samą liczbą liczb przed i po niej. Jeśli w liście jest parzysta liczba wartości, należy wyznaczyć środkową parę, dodać ją do siebie i podzielić przez dwa, aby znaleźć wartość mediany.\n",
    "image\n",
    "\n",
    "Policzmy teraz medianę wieku pasażerów Titanica."
   ]
  },
  {
   "cell_type": "code",
   "execution_count": 6,
   "id": "a4e5921f",
   "metadata": {},
   "outputs": [
    {
     "name": "stdout",
     "output_type": "stream",
     "text": [
      "28.0\n"
     ]
    }
   ],
   "source": [
    "median_age = np.median(age_values)\n",
    "print(median_age)"
   ]
  },
  {
   "cell_type": "raw",
   "id": "a7b47500",
   "metadata": {},
   "source": [
    "Jak widzimy mediana jest przesunięta trochę w lewo względem średniej."
   ]
  },
  {
   "cell_type": "code",
   "execution_count": 8,
   "id": "c2f89021",
   "metadata": {},
   "outputs": [
    {
     "data": {
      "image/png": "[encoded data removed]",
      "text/plain": [
       "<Figure size 432x288 with 1 Axes>"
      ]
     },
     "metadata": {
      "needs_background": "light"
     },
     "output_type": "display_data"
    }
   ],
   "source": [
    "plt.hist(age_values, bins=20)\n",
    "plt.axvline(x = mean_age, color='red', label = 'Średnia')\n",
    "plt.axvline(x = median_age, color='green', label = 'Mediana')\n",
    "plt.legend(loc='upper right')\n",
    "plt.show()"
   ]
  },
  {
   "cell_type": "raw",
   "id": "9ee23c03",
   "metadata": {},
   "source": [
    "Mediana jest odporna na wartości odstające, ponieważ jest wyliczana na podstawie wartości środkowych w rozkładzie i odrzuca te minimalne oraz maksymalne wartości. Nie można tego powiedzieć o średniej arytmetycznej, ponieważ jest brana cała próba do jej obliczenia, przez co jest wrażliwa na wartości odstające. Wartościami odstającymi nazywamy te, które są dużo mniejsze lub dużo większe w stosunku do większości wartości. Warto o tym pamiętać, aby nie wyciągnąć błędnych wniosków."
   ]
  },
  {
   "cell_type": "markdown",
   "id": "71aa143d",
   "metadata": {},
   "source": [
    "## Moda "
   ]
  },
  {
   "cell_type": "raw",
   "id": "6c617773",
   "metadata": {},
   "source": [
    "Jest to wartość lub wartości, które występują najczęściej w zbiorze danych. Do tego wykorzystamy moduł stats z biblioteki scipy."
   ]
  },
  {
   "cell_type": "code",
   "execution_count": 9,
   "id": "6638adec",
   "metadata": {},
   "outputs": [
    {
     "name": "stdout",
     "output_type": "stream",
     "text": [
      "ModeResult(mode=array([24.]), count=array([30]))\n"
     ]
    }
   ],
   "source": [
    "mode_age = stats.mode(age_values)\n",
    "print(mode_age)"
   ]
  },
  {
   "cell_type": "raw",
   "id": "977e0184",
   "metadata": {},
   "source": [
    "Najwięcej pasażerów w naszej próbie było w wieku 24 lat i było 30 takich osób."
   ]
  },
  {
   "cell_type": "code",
   "execution_count": 10,
   "id": "d0d4b47e",
   "metadata": {},
   "outputs": [
    {
     "data": {
      "image/png": "[encoded data removed]",
      "text/plain": [
       "<Figure size 432x288 with 1 Axes>"
      ]
     },
     "metadata": {
      "needs_background": "light"
     },
     "output_type": "display_data"
    }
   ],
   "source": [
    "plt.hist(age_values, bins=20)\n",
    "plt.axvline(x = mean_age, color='red', label = 'Średnia')\n",
    "plt.axvline(x = median_age, color='green', label = 'Mediana')\n",
    "plt.axvline(x = mode_age[0], color='orange', label = 'Moda')\n",
    "plt.legend(loc='upper right')\n",
    "plt.show()"
   ]
  },
  {
   "cell_type": "markdown",
   "id": "067e26bc",
   "metadata": {},
   "source": [
    "## Kwartyle "
   ]
  },
  {
   "cell_type": "raw",
   "id": "f4d01a2d",
   "metadata": {},
   "source": [
    "Kwartyle to podzielenie obserwacji na cztery przedziały. Możesz sobie to wyobrazić jako trzy linie, które dzielą zbiór obserwacji na cztery podzbiory:\n",
    "\n",
    "    Pierwszy kwartyl (Q1) – taka wartość dla których 25% obserwacji jest mniejszych, zaś 75% obserwacji jest większych.\n",
    "    Drugi kwartyl (Q2) – jest o mediana, która dzieli obserwacje na dwie części.\n",
    "    Trzeci kwartyl (Q3) – 75% obserwacji mniejszych, a 25% obserwacji jest większych.\n",
    "\n",
    "Q0 oraz Q4 odpowiadają minimalnej i maksymalnej wartości.\n",
    "\n",
    "Policzmy zatem kwartyle dla zmiennej wiek, Q2 jest równy medianie :)"
   ]
  },
  {
   "cell_type": "code",
   "execution_count": 11,
   "id": "3c67876c",
   "metadata": {},
   "outputs": [
    {
     "name": "stdout",
     "output_type": "stream",
     "text": [
      "Q0: 0.42\n",
      "Q1: 20.0\n",
      "Q2: 28.0\n",
      "Q3: 38.0\n",
      "Q4: 80.0\n"
     ]
    }
   ],
   "source": [
    "q0 = np.quantile(age_values, 0.0)\n",
    "q1 = np.round(np.quantile(age_values, 0.25))\n",
    "q3 = np.round(np.quantile(age_values, 0.75))\n",
    "q4 = np.round(np.quantile(age_values, 1.0))\n",
    "print(f'Q0: {q0}')\n",
    "print(f'Q1: {q1}')\n",
    "print(f'Q2: {median_age}')\n",
    "print(f'Q3: {q3}')\n",
    "print(f'Q4: {q4}')"
   ]
  },
  {
   "cell_type": "raw",
   "id": "d08ffece",
   "metadata": {},
   "source": [
    "Czas na podstawie tego wyciągnąć wnioski. Najmłodsza osoba to noworodek i nawet nie miał pół roku, najstarsza osoba to osiemdziesięciolatek. 75% osób miało nie więcej niż 38 lat, zatem wartość maksymalna jest ponad dwukrotnie większa niż trzeci kwartyl. Już tu widzimy, że nasz rozkład jest skośny, o czym będzie jeszcze więcej niedługo. Dodajmy do wizualizacji kwartyle."
   ]
  },
  {
   "cell_type": "code",
   "execution_count": null,
   "id": "67a8d262",
   "metadata": {},
   "outputs": [],
   "source": [
    "plt.hist(age_values, bins=20)\n",
    "plt.axvline(x = mean_age, color='red', label = 'Średnia')\n",
    "plt.axvline(x = median_age, color='green', label = 'Mediana')\n",
    "plt.axvline(x = mode_age[0], color='orange', label = 'Moda')\n",
    "plt.axvline(x = q0, color='black', label = 'Min')\n",
    "plt.axvline(x = q1, color='black', label = 'Q1')\n",
    "plt.axvline(x = q3, color='black', label = 'Q3')\n",
    "plt.axvline(x = q4, color='black', label = 'Max')\n",
    "plt.legend(loc='upper right')\n",
    "plt.show()"
   ]
  },
  {
   "cell_type": "raw",
   "id": "7a77a4d3",
   "metadata": {},
   "source": [
    "Warto zapamiętać ten kod, zapewne przyda Ci się w Twoich późniejszych projektach.\n",
    "\n",
    "Warto znać również pojęcie decyli (dzieli posortowany zbiór na 10 części) oraz percentyle (dzieli posortowany zbiór na 100 części)."
   ]
  },
  {
   "cell_type": "markdown",
   "id": "399ab370",
   "metadata": {},
   "source": [
    "## Zakres "
   ]
  },
  {
   "cell_type": "raw",
   "id": "db6f244e",
   "metadata": {},
   "source": [
    "Miary tendencji centralnej, które służą do podsumowania zmiennej. Przejdźmy teraz do metryk związanych z rozproszeniem, czyli zmiennością rozkładu. Zakres to pierwsza taka miara i jest to rozpiętość danych od najniższej do najwyższej wartości w rozkładzie. Tę miarę oblicza się odejmując najniższą wartość od wartości najwyższej. Duży przedział oznacza dużą zmienność, a mały przedział małą zmienność rozkładu."
   ]
  },
  {
   "cell_type": "code",
   "execution_count": 12,
   "id": "9181d658",
   "metadata": {},
   "outputs": [
    {
     "name": "stdout",
     "output_type": "stream",
     "text": [
      "79.58\n"
     ]
    }
   ],
   "source": [
    "range_age = max(age_values) - min(age_values)\n",
    "print(range_age)"
   ]
  },
  {
   "cell_type": "raw",
   "id": "799a22dc",
   "metadata": {},
   "source": [
    "W zbiorze danych zakres danych to prawie 80 lat!"
   ]
  },
  {
   "cell_type": "markdown",
   "id": "80beeba2",
   "metadata": {},
   "source": [
    "## Rozstęp międzykwartylowy"
   ]
  },
  {
   "cell_type": "raw",
   "id": "5aaeab18",
   "metadata": {},
   "source": [
    "Kwartyle dzielą każdy rozkład, który jest uporządkowany od najniższego do najwyższego, na cztery równe części. Rozstęp międzykwartylowy IQR (InterQuartile Range) zawiera drugi i trzeci kwartyl, czyli jest to środkowa połowa rozkładu zmiennej. Jest to zatem różnica pomiędzy Q3 oraz Q1.\n",
    "image\n",
    "\n",
    "Jest to zakres pomiędzy percentylem 25 a percentylem 75 i ta miara jest lepszą oraz szerzej stosowaną miarą, ponieważ mierzy rozproszenie środkowej części danych i jest mniej wrażliwa na wartości odstające."
   ]
  },
  {
   "cell_type": "code",
   "execution_count": 13,
   "id": "2d9751c3",
   "metadata": {},
   "outputs": [
    {
     "name": "stdout",
     "output_type": "stream",
     "text": [
      "18.0\n"
     ]
    }
   ],
   "source": [
    "iqr = q3 - q1\n",
    "print(iqr)"
   ]
  },
  {
   "cell_type": "raw",
   "id": "34026a47",
   "metadata": {},
   "source": [
    "Dla przypomnienia Q1 to 20 lat, zaś Q3 to 38 lat, w związku z tym 50% osób jest w zakresie tego wieku. Na podstawie kwartyli oraz metryki IQR powstał wykres pudełkowy – BoxPlot."
   ]
  },
  {
   "cell_type": "code",
   "execution_count": null,
   "id": "c734e834",
   "metadata": {},
   "outputs": [],
   "source": []
  },
  {
   "cell_type": "raw",
   "id": "bd2b46ba",
   "metadata": {},
   "source": [
    "Wykres pudełkowy jest rysowany jako pudełko, które rozciąga się od wartości Q1 do Q3. Wewnątrz pudełka jest linia określająca wartość mediany. Linie rozciągające się od pudełek nazywane są wąsami (whiskers), których celem jest wskazanie zmienności poza dolnym i górnym kwartylem. Ich długość jest do półtorej wartości rozstępu międzykwartylowego – IQR. Jeśli wartość minimalna lub maksymalna jest bliżej, to wtedy też wąs jest krótszy. Jeśli istnieją wartości poza wąsem, to wąs jest równy jako 1.5 IQR, a poza wąsem znajdują się punkty, które mogą być uznane jako wartości odstające.\n",
    "\n",
    "Stwórzmy wykres pudełkowy dla zmiennej wieku."
   ]
  },
  {
   "cell_type": "code",
   "execution_count": 14,
   "id": "2c770ab7",
   "metadata": {},
   "outputs": [
    {
     "data": {
      "image/png": "[encoded data removed]",
      "text/plain": [
       "<Figure size 432x288 with 1 Axes>"
      ]
     },
     "metadata": {
      "needs_background": "light"
     },
     "output_type": "display_data"
    }
   ],
   "source": [
    "plt.boxplot(age_values)\n",
    "plt.show()"
   ]
  },
  {
   "cell_type": "markdown",
   "id": "f8850da8",
   "metadata": {},
   "source": [
    "## Wariancja "
   ]
  },
  {
   "cell_type": "raw",
   "id": "1ae5e3b2",
   "metadata": {},
   "source": [
    "Jak widzisz są wartości odstające dla osób starszych, świadczy to o tym, że w tym miejscu rozkładu wartości są rzadkie, jest ich niewiele.\n",
    "Wariancja\n",
    "\n",
    "Najpierw przedstawmy wzór, który opisuje wariancję, a później go opiszmy:\n",
    "image\n",
    "\n",
    "Wariancja to miara rozpiętości między liczbami w zbiorze danych. Mówiąc dokładniej, wariancja mierzy, jak bardzo każda liczba w zbiorze jest oddalona od średniej, a tym samym od każdej innej liczby w zbiorze.\n",
    "\n",
    "Oblicza się ją, biorąc różnice między każdą liczbą w zbiorze danych a średnią, następnie podnosząc te różnice do kwadratu, aby były dodatnie, a na koniec dzieląc sumę kwadratów przez o jedną mniejszą liczbę wartości w zbiorze danych. Duża wariancja wskazuje, że liczby w zbiorze są dalekie od średniej i dalekie od siebie nawzajem. Z kolei mała wariancja wskazuje, że jest odwrotnie. Wariancja równa zero oznacza, że wszystkie wartości w zbiorze liczb są identyczne. Każda wariancja, która nie jest równa zero, jest liczbą dodatnią. Wariancja nie może być ujemna. Jest to matematycznie niemożliwe, ponieważ nie można uzyskać ujemnej wartości będącej wynikiem kwadratu.\n",
    "\n",
    "Dlaczego w mianowniku jest n-1 a nie samo n?\n",
    "\n",
    "W przypadku pracy nad próbą danych we wzorze używamy n - 1, ponieważ użycie n dałoby nam nieobiektywne oszacowanie, które konsekwentnie zaniżałoby zmienność. Wariancja z próby byłaby zwykle niższa niż rzeczywista wariancja populacji.\n",
    "\n",
    "Zmniejszenie próby n do n - 1 powoduje, że wariancja jest sztucznie zwiększona, co daje nieobiektywne oszacowanie zmienności: lepiej jest przeszacować niż niedoszacować zmienność w próbach. Ma to związek ze stopniami swobody. Jeśli będzie coraz większa liczba n, to różnica dla wariancji z n-1 a n będzie coraz mniejsza.\n",
    "\n",
    "Aby obliczyć wariancję korzystamy z biblioteki Numpy i funkcji var. W celu policzenia wariancji dla próby ustawiamy parametr ddof na wartość 1."
   ]
  },
  {
   "cell_type": "code",
   "execution_count": 17,
   "id": "0e437a50",
   "metadata": {},
   "outputs": [
    {
     "name": "stdout",
     "output_type": "stream",
     "text": [
      "211.01912474630805\n"
     ]
    }
   ],
   "source": [
    "variance_age = np.var(age_values, ddof=1)\n",
    "print(variance_age)"
   ]
  },
  {
   "cell_type": "markdown",
   "id": "ab6453bd",
   "metadata": {},
   "source": [
    "## Odchylenie standardowe"
   ]
  },
  {
   "cell_type": "raw",
   "id": "37336110",
   "metadata": {},
   "source": [
    "Wariancja jest trudna do oceny, ponieważ nie jest w takich wartościach, jak badana zmienna. Czy wariancja 200 to dużo? Dlatego stosuje się odchylenie standardowe, które jest pierwiastkiem z wariancji.\n",
    "image\n",
    "\n",
    "Im bardziej punkty danych są oddalone od średniej, tym większe jest odchylenie w zbiorze danych. Dlatego im bardziej dane są rozproszone, tym wyższe jest odchylenie standardowe.\n",
    "\n",
    "Możemy obliczyć to jako pierwiastek poprzedniego działania."
   ]
  },
  {
   "cell_type": "code",
   "execution_count": 18,
   "id": "33543d98",
   "metadata": {},
   "outputs": [
    {
     "name": "stdout",
     "output_type": "stream",
     "text": [
      "14.526497332334042\n",
      "14.526497332334042\n"
     ]
    }
   ],
   "source": [
    "print(variance_age**(1/2))\n",
    "\n",
    "# Możemy też skorzystać z funkcji std dostępnej w Numpy.\n",
    "\n",
    "standard_deviation_age = np.std(age_values, ddof=1)\n",
    "print(standard_deviation_age)"
   ]
  },
  {
   "cell_type": "markdown",
   "id": "a1cb124f",
   "metadata": {},
   "source": [
    "## Asymetria rozkładu "
   ]
  },
  {
   "cell_type": "raw",
   "id": "caa5a9d2",
   "metadata": {},
   "source": [
    "Rozkład zmiennej 'wiek' wydaje się być pozytywnie skośnym, ponieważ najpierw widzimy modę, następnie w prawo jest mediana, a jeszcze dalej w prawo jest średnia. Gdyby był to rozkład normalny, to te metryki byłyby sobie równe. Poniżej zobacz możliwe rozkłady asymetryczne i symetryczny rozkład normalny.\n",
    "image\n",
    "\n",
    "Nie musimy jednak patrzeć na rozkład, aby zdecydować o tym, wystarczy policzyć współczynnik asymetrii. W przypadku danych o rozkładzie normalnym skośność powinna wynosić około zera. W przypadku rozkładów skośnych dodatnio wartość współczynnika jest większa od 0, w przypadku rozkładów skośnych ujemnie wartość współczynnika jest mniejsza od 0.\n",
    "\n",
    "Z rozkładamy symetrycznymi prawie nigdy nie mamy do czynienia – taki jest świat. Jednak im bliższe rozkłady są symetrycznym, tym lepiej będą działały modele parametryczne uczenia maszynowego, które poznasz w późniejszych modułach. Warto o tym pamiętać."
   ]
  },
  {
   "cell_type": "markdown",
   "id": "5601c4f7",
   "metadata": {},
   "source": [
    "## Skalowanie zmiennej"
   ]
  },
  {
   "cell_type": "raw",
   "id": "46e7fd0d",
   "metadata": {},
   "source": [
    "Najpierw odpowiedzmy dlaczego istotne jest, aby skalować zmienne. To również odnosi się do modeli parametrycznych (jak na przykład regresja liniowa), gdy korzystamy z tego typu modeli ważne jest, aby wszystkie zmienne były w tej samej skali. Niektóre modele są bardzo wrażliwe na cechy w różnej skali, a niektóre nie – trzeba to wiedzieć i dla tych modeli wrażliwych na skale należy skalować. Sprawdźmy teraz metody, jak to możemy zrobić.\n",
    "\n",
    "Standaryzacja to technika skalowania, w której wartości są wyśrodkowane wobec średniej i wyskalowane wobec średniej. Tak skalowane dane mają średnią równą 0 oraz odchylenie standardowe równe 1. Od każdej wartości odejmujemy średnią i następnie dzielimy przez odchylenie standardowe.\n",
    "\n",
    "Teraz czas to wdrożyć w Pythonie i sprawdzić rozkład danych. Do tego skorzystamy z StandardScaler, który jest dostępny w Scikit-learn."
   ]
  },
  {
   "cell_type": "code",
   "execution_count": 15,
   "id": "df85c749",
   "metadata": {},
   "outputs": [
    {
     "data": {
      "image/png": "[encoded data removed]",
      "text/plain": [
       "<Figure size 432x288 with 1 Axes>"
      ]
     },
     "metadata": {
      "needs_background": "light"
     },
     "output_type": "display_data"
    },
    {
     "name": "stdout",
     "output_type": "stream",
     "text": [
      "Średnia: 2.338621049070358e-16\n",
      "Odchylenie standardowe: 1.000701016559981\n"
     ]
    }
   ],
   "source": [
    "scaler_standardized = StandardScaler()\n",
    "standardized_age_values = scaler_standardized.fit_transform(age_values.reshape(-1, 1))\n",
    "plt.hist(standardized_age_values, bins=20)\n",
    "plt.axvline(x = standardized_age_values.mean(), color='red', label = 'Średnia')\n",
    "plt.show()\n",
    "print(f'Średnia: {standardized_age_values.mean()}')\n",
    "print(f'Odchylenie standardowe: {np.std(standardized_age_values, ddof=1)}')"
   ]
  },
  {
   "cell_type": "raw",
   "id": "00a6c361",
   "metadata": {},
   "source": [
    "Zobacz, średnia nie jest równa 2, tylko 2 do 10-16. Zastosowaliśmy metodę fit_transform. Odnieśmy się do tego czego będziesz uczyć się w następnych modułach. Tak samo musisz działać na zbiorze treningowym, natomiast na zbiorze testowym wykonać jedynie metodę transform, wtedy zbiór zostanie przekształcony w oparciu o średnią i odchylenie standardowe ze zbioru treningowego. W tym przypadku obliczyliśmy inaczej średnią, odwołaliśmy się do metody mean, która jest dostępna dla obiektów numpy array.\n",
    "\n",
    "Min Max Scaler to kolejna technika do skalowania, w której wartości są przesuwane i przeskalowywane w taki sposób, aby ostatecznie znalazły się w przedziale od 0 do 1\n",
    "\n",
    "\n",
    "Czas to również wdrożyć w kodzie."
   ]
  }
 ],
 "metadata": {
  "kernelspec": {
   "display_name": "Python 3 (ipykernel)",
   "language": "python",
   "name": "python3"
  },
  "language_info": {
   "codemirror_mode": {
    "name": "ipython",
    "version": 3
   },
   "file_extension": ".py",
   "mimetype": "text/x-python",
   "name": "python",
   "nbconvert_exporter": "python",
   "pygments_lexer": "ipython3",
   "version": "3.9.12"
  }
 },
 "nbformat": 4,
 "nbformat_minor": 5
}
